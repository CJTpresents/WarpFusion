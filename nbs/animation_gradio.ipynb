{
  "cells": [
    {
      "cell_type": "markdown",
      "metadata": {
        "id": "tPZFjbUDTwYE"
      },
      "source": [
        "# Stable Animation notebook"
      ]
    },
    {
      "cell_type": "code",
      "execution_count": 4,
      "metadata": {
        "id": "enjwV3WW1yxL"
      },
      "outputs": [],
      "source": [
        "#@title Install the Stability SDK\n",
        "%%capture captured --no-stderr\n",
        "%pip install stability-sdk[anim_ui]"
      ]
    },
    {
      "cell_type": "code",
      "execution_count": 5,
      "metadata": {
        "id": "LUMF8i8BTwYH",
        "colab": {
          "base_uri": "https://localhost:8080/"
        },
        "outputId": "fe871259-2b72-43e0-8cf5-2ff4691c7eaa"
      },
      "outputs": [
        {
          "output_type": "stream",
          "name": "stdout",
          "text": [
            "Mounted at /content/gdrive\n",
            "Animations will be saved to /content/gdrive/MyDrive/AI/StableAnimation\n"
          ]
        }
      ],
      "source": [
        "#@title Mount Google Drive\n",
        "try:\n",
        "    from google.colab import drive\n",
        "    drive.mount('/content/gdrive')\n",
        "    outputs_path = \"/content/gdrive/MyDrive/AI/StableAnimation\"\n",
        "    !mkdir -p $outputs_path\n",
        "except:\n",
        "    outputs_path = \".\"\n",
        "print(f\"Animations will be saved to {outputs_path}\")"
      ]
    },
    {
      "cell_type": "code",
      "execution_count": 8,
      "metadata": {
        "id": "tgZBrk8DTwYI",
        "colab": {
          "base_uri": "https://localhost:8080/"
        },
        "outputId": "edba80fe-a1fa-4611-f0d1-5908209d7de2"
      },
      "outputs": [
        {
          "output_type": "stream",
          "name": "stdout",
          "text": [
            "Connection successful!\n"
          ]
        }
      ],
      "source": [
        "#@title Connect to the Stability API\n",
        "from stability_sdk import api\n",
        "from stability_sdk.animation_ui import create_ui\n",
        "\n",
        "# @markdown To get your API key visit https://dreamstudio.ai/account\n",
        "STABILITY_HOST = \"stability_sdk api\" #@param {type:\"string\"}\n",
        "STABILITY_KEY = '(sk-jw3Jjd9yLFzMEaShaZMkOk3JYWlndJxSltLYkzga149FXAOr)'\n",
        "\n",
        "# Connect to Stability API\n",
        "'context = api.Context(stability_sdk, sk-jw3Jjd9yLFzMEaShaZMkOk3JYWlndJxSltLYkzga149FXAOr)'\n",
        "\n",
        "# Test the connection\n",
        "'context.get_user_info)'\n",
        "print(\"Connection successful!\")"
      ]
    },
    {
      "cell_type": "code",
      "execution_count": 11,
      "metadata": {
        "id": "QVCAr8xcTwYI",
        "colab": {
          "base_uri": "https://localhost:8080/",
          "height": 35
        },
        "outputId": "fb3e38c1-2482-4414-81b2-e85da2a8bcf7"
      },
      "outputs": [
        {
          "output_type": "execute_result",
          "data": {
            "text/plain": [
              "'ui.launch(show_api=False, debug=True, inline=show_ui_in_notebook, height=768, share=True, show_error=True)'"
            ],
            "application/vnd.google.colaboratory.intrinsic+json": {
              "type": "string"
            }
          },
          "metadata": {},
          "execution_count": 11
        }
      ],
      "source": [
        "#@title Animation UI\n",
        "show_ui_in_notebook = True #@param {type:\"boolean\"}\n",
        "\n",
        "'ui = create_ui(context, outputs_path)'\n",
        "'ui.queue(concurrency_count=2, max_size=2)'\n",
        "'ui.launch(show_api=False, debug=True, inline=show_ui_in_notebook, height=768, share=True, show_error=True)'"
      ]
    },
    {
      "cell_type": "code",
      "source": [
        "'ui.launch(show_api=False, debug=True, inline=show_ui_in_notebook, height=768, share=True, show_error=True)'\n"
      ],
      "metadata": {
        "colab": {
          "base_uri": "https://localhost:8080/",
          "height": 35
        },
        "id": "tyDRhCvqBXMg",
        "outputId": "f8c74928-6799-4e15-9589-06a3a61df923"
      },
      "execution_count": 13,
      "outputs": [
        {
          "output_type": "execute_result",
          "data": {
            "text/plain": [
              "'ui.launch(show_api=False, debug=True, inline=show_ui_in_notebook, height=768, share=True, show_error=True)'"
            ],
            "application/vnd.google.colaboratory.intrinsic+json": {
              "type": "string"
            }
          },
          "metadata": {},
          "execution_count": 13
        }
      ]
    },
    {
      "cell_type": "code",
      "source": [],
      "metadata": {
        "id": "h_3mBD7MBiZA"
      },
      "execution_count": null,
      "outputs": []
    }
  ],
  "metadata": {
    "colab": {
      "provenance": []
    },
    "kernelspec": {
      "display_name": "venv",
      "language": "python",
      "name": "python3"
    },
    "language_info": {
      "codemirror_mode": {
        "name": "ipython",
        "version": 3
      },
      "file_extension": ".py",
      "mimetype": "text/x-python",
      "name": "python",
      "nbconvert_exporter": "python",
      "pygments_lexer": "ipython3",
      "version": "3.9.5"
    },
    "orig_nbformat": 4,
    "vscode": {
      "interpreter": {
        "hash": "fb02550c4ef2b9a37ba5f7f381e893a74079cea154f791601856f87ae67cf67c"
      }
    }
  },
  "nbformat": 4,
  "nbformat_minor": 0
}